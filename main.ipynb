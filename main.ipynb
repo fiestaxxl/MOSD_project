{
 "cells": [
  {
   "cell_type": "code",
   "execution_count": 40,
   "metadata": {},
   "outputs": [],
   "source": [
    "from einops import rearrange, reduce, repeat\n",
    "from einops.layers.torch import Rearrange, Reduce\n",
    "\n",
    "from config_data.config import load_config\n",
    "from utils import pair\n",
    "\n",
    "import torch\n",
    "import torch.nn as nn\n",
    "import torch.nn.functional as F\n",
    "import numpy as np\n",
    "import os\n",
    "from pathlib import Path\n",
    "import h5py\n",
    "\n",
    "import matplotlib.pyplot as plt\n",
    "from tqdm import tqdm"
   ]
  },
  {
   "cell_type": "code",
   "execution_count": 9,
   "metadata": {},
   "outputs": [],
   "source": [
    "configs = load_config()"
   ]
  },
  {
   "cell_type": "code",
   "execution_count": 43,
   "metadata": {},
   "outputs": [],
   "source": [
    "from torch.utils.data import Dataset, DataLoader, random_split\n",
    "\n",
    "h5_file_path = 'pdsi_data_dims_60_90_train_frames_16.h5'\n",
    "\n",
    "class H5Dataset(Dataset):\n",
    "    def __init__(self, h5_file_path):\n",
    "        self.data = h5py.File(h5_file_path, 'r')\n",
    "        self.x_data = self.data['X_data']\n",
    "        self.y_data = self.data['y_data']\n",
    "\n",
    "    def __len__(self):\n",
    "        return len(self.x_data)\n",
    "\n",
    "    def __getitem__(self, index):\n",
    "\n",
    "        x_item = self.x_data[index]\n",
    "        y_item = self.y_data[index]\n",
    "\n",
    "        x_item = np.expand_dims(x_item, axis=0)\n",
    "        y_item = np.expand_dims(y_item, axis=0)\n",
    "\n",
    "        return x_item, y_item\n",
    "\n",
    "dataset = H5Dataset(h5_file_path)\n",
    "\n",
    "seed = torch.Generator()\n",
    "seed.manual_seed(42)\n",
    "train_dataset, test_dataset = random_split(dataset, [0.7, 0.3], generator=seed)\n",
    "\n",
    "train_loader = DataLoader(train_dataset, batch_size=4, shuffle=True)\n",
    "val_loader = DataLoader(test_dataset, batch_size=4, shuffle=True)"
   ]
  },
  {
   "cell_type": "code",
   "execution_count": 36,
   "metadata": {},
   "outputs": [],
   "source": [
    "class Model(nn.Module):\n",
    "    \"\"\"\n",
    "    Just one Linear layer\n",
    "    \"\"\"\n",
    "    def __init__(self, configs):\n",
    "        super(Model, self).__init__()\n",
    "        self.pred_len = configs.pred_len\n",
    "        self.param_len = configs.param_len\n",
    "        self.patch_size = configs.patch_size\n",
    "        self.memory = configs.memory\n",
    "        self.emb_size = configs.emb_size\n",
    "\n",
    "\n",
    "        self.image_size_h, self.image_size_w = pair(configs.image_size)\n",
    "        assert self.image_size_h % self.patch_size == 0 and self.image_size_w % self.patch_size == 0, 'image dimensions must be divisible by the patch size'\n",
    "\n",
    "\n",
    "        self.projection = nn.Sequential(\n",
    "            Rearrange('batch_size one ts (h p1) (w p2) -> batch_size (h w) (one ts p1 p2)', p1 = self.patch_size, p2 = self.patch_size),\n",
    "            nn.Linear(self.memory*self.patch_size*self.patch_size, self.emb_size)\n",
    "        ) # this breaks down the image in s1xs2 patches, and then flat them\n",
    "        self.linear = nn.Linear(self.emb_size, self.pred_len*self.patch_size**2)\n",
    "        self.convertion = Rearrange('batch_size (h w) (ts p1 p2) -> batch_size 1 ts (h p1) (w p2)',\n",
    "                                    h = self.image_size_h//self.patch_size,\n",
    "                                    w = self.image_size_w//self.patch_size,\n",
    "                                    p1 = self.patch_size, p2 = self.patch_size)\n",
    "\n",
    "    def forward(self, x):\n",
    "        # x: [Batch, Input length, Channel]\n",
    "        x = self.projection(x)\n",
    "        x = self.linear(x)\n",
    "        x = self.convertion(x)\n",
    "        return x # [Batch, Output length, Channel]"
   ]
  },
  {
   "cell_type": "code",
   "execution_count": 37,
   "metadata": {},
   "outputs": [],
   "source": [
    "model = Model(configs)"
   ]
  },
  {
   "cell_type": "code",
   "execution_count": 41,
   "metadata": {},
   "outputs": [],
   "source": [
    "optim = torch.optim.AdamW(model.parameters(), lr=0.001, weight_decay=1e-5) # TODO\n",
    "criterion = nn.MSELoss(reduction=\"mean\") # TODO\n",
    "device =configs.gpu"
   ]
  },
  {
   "cell_type": "code",
   "execution_count": 46,
   "metadata": {},
   "outputs": [
    {
     "name": "stderr",
     "output_type": "stream",
     "text": [
      "  0%|          | 0/999999999 [00:13<?, ?it/s]\n"
     ]
    },
    {
     "ename": "KeyboardInterrupt",
     "evalue": "",
     "output_type": "error",
     "traceback": [
      "\u001b[0;31m---------------------------------------------------------------------------\u001b[0m",
      "\u001b[0;31mKeyboardInterrupt\u001b[0m                         Traceback (most recent call last)",
      "\u001b[1;32m/home/ivan/Desktop/skoltech/mseqdata_project/main.ipynb Cell 7\u001b[0m line \u001b[0;36m1\n\u001b[1;32m     <a href='vscode-notebook-cell:/home/ivan/Desktop/skoltech/mseqdata_project/main.ipynb#X22sZmlsZQ%3D%3D?line=10'>11</a>\u001b[0m \u001b[39m#########\u001b[39;00m\n\u001b[1;32m     <a href='vscode-notebook-cell:/home/ivan/Desktop/skoltech/mseqdata_project/main.ipynb#X22sZmlsZQ%3D%3D?line=11'>12</a>\u001b[0m \u001b[39m# TRAIN #\u001b[39;00m\n\u001b[1;32m     <a href='vscode-notebook-cell:/home/ivan/Desktop/skoltech/mseqdata_project/main.ipynb#X22sZmlsZQ%3D%3D?line=12'>13</a>\u001b[0m \u001b[39m#########\u001b[39;00m\n\u001b[1;32m     <a href='vscode-notebook-cell:/home/ivan/Desktop/skoltech/mseqdata_project/main.ipynb#X22sZmlsZQ%3D%3D?line=13'>14</a>\u001b[0m \u001b[39m# TODO: add code for the training step\u001b[39;00m\n\u001b[1;32m     <a href='vscode-notebook-cell:/home/ivan/Desktop/skoltech/mseqdata_project/main.ipynb#X22sZmlsZQ%3D%3D?line=15'>16</a>\u001b[0m model\u001b[39m.\u001b[39mtrain()\n\u001b[0;32m---> <a href='vscode-notebook-cell:/home/ivan/Desktop/skoltech/mseqdata_project/main.ipynb#X22sZmlsZQ%3D%3D?line=17'>18</a>\u001b[0m \u001b[39mfor\u001b[39;00m batch \u001b[39min\u001b[39;00m tqdm(train_loader, leave\u001b[39m=\u001b[39m\u001b[39mFalse\u001b[39;00m):\n\u001b[1;32m     <a href='vscode-notebook-cell:/home/ivan/Desktop/skoltech/mseqdata_project/main.ipynb#X22sZmlsZQ%3D%3D?line=18'>19</a>\u001b[0m     optim\u001b[39m.\u001b[39mzero_grad()\n\u001b[1;32m     <a href='vscode-notebook-cell:/home/ivan/Desktop/skoltech/mseqdata_project/main.ipynb#X22sZmlsZQ%3D%3D?line=19'>20</a>\u001b[0m     batch[\u001b[39m0\u001b[39m], batch[\u001b[39m1\u001b[39m] \u001b[39m=\u001b[39m batch[\u001b[39m0\u001b[39m]\u001b[39m.\u001b[39mto(device)\u001b[39m.\u001b[39mfloat(), batch[\u001b[39m1\u001b[39m]\u001b[39m.\u001b[39mto(device)\u001b[39m.\u001b[39mfloat()\n",
      "File \u001b[0;32m~/.local/lib/python3.10/site-packages/tqdm/std.py:1178\u001b[0m, in \u001b[0;36mtqdm.__iter__\u001b[0;34m(self)\u001b[0m\n\u001b[1;32m   1175\u001b[0m time \u001b[39m=\u001b[39m \u001b[39mself\u001b[39m\u001b[39m.\u001b[39m_time\n\u001b[1;32m   1177\u001b[0m \u001b[39mtry\u001b[39;00m:\n\u001b[0;32m-> 1178\u001b[0m     \u001b[39mfor\u001b[39;00m obj \u001b[39min\u001b[39;00m iterable:\n\u001b[1;32m   1179\u001b[0m         \u001b[39myield\u001b[39;00m obj\n\u001b[1;32m   1180\u001b[0m         \u001b[39m# Update and possibly print the progressbar.\u001b[39;00m\n\u001b[1;32m   1181\u001b[0m         \u001b[39m# Note: does not call self.update(1) for speed optimisation.\u001b[39;00m\n",
      "File \u001b[0;32m~/.local/lib/python3.10/site-packages/torch/utils/data/dataloader.py:633\u001b[0m, in \u001b[0;36m_BaseDataLoaderIter.__next__\u001b[0;34m(self)\u001b[0m\n\u001b[1;32m    630\u001b[0m \u001b[39mif\u001b[39;00m \u001b[39mself\u001b[39m\u001b[39m.\u001b[39m_sampler_iter \u001b[39mis\u001b[39;00m \u001b[39mNone\u001b[39;00m:\n\u001b[1;32m    631\u001b[0m     \u001b[39m# TODO(https://github.com/pytorch/pytorch/issues/76750)\u001b[39;00m\n\u001b[1;32m    632\u001b[0m     \u001b[39mself\u001b[39m\u001b[39m.\u001b[39m_reset()  \u001b[39m# type: ignore[call-arg]\u001b[39;00m\n\u001b[0;32m--> 633\u001b[0m data \u001b[39m=\u001b[39m \u001b[39mself\u001b[39;49m\u001b[39m.\u001b[39;49m_next_data()\n\u001b[1;32m    634\u001b[0m \u001b[39mself\u001b[39m\u001b[39m.\u001b[39m_num_yielded \u001b[39m+\u001b[39m\u001b[39m=\u001b[39m \u001b[39m1\u001b[39m\n\u001b[1;32m    635\u001b[0m \u001b[39mif\u001b[39;00m \u001b[39mself\u001b[39m\u001b[39m.\u001b[39m_dataset_kind \u001b[39m==\u001b[39m _DatasetKind\u001b[39m.\u001b[39mIterable \u001b[39mand\u001b[39;00m \\\n\u001b[1;32m    636\u001b[0m         \u001b[39mself\u001b[39m\u001b[39m.\u001b[39m_IterableDataset_len_called \u001b[39mis\u001b[39;00m \u001b[39mnot\u001b[39;00m \u001b[39mNone\u001b[39;00m \u001b[39mand\u001b[39;00m \\\n\u001b[1;32m    637\u001b[0m         \u001b[39mself\u001b[39m\u001b[39m.\u001b[39m_num_yielded \u001b[39m>\u001b[39m \u001b[39mself\u001b[39m\u001b[39m.\u001b[39m_IterableDataset_len_called:\n",
      "File \u001b[0;32m~/.local/lib/python3.10/site-packages/torch/utils/data/dataloader.py:677\u001b[0m, in \u001b[0;36m_SingleProcessDataLoaderIter._next_data\u001b[0;34m(self)\u001b[0m\n\u001b[1;32m    675\u001b[0m \u001b[39mdef\u001b[39;00m \u001b[39m_next_data\u001b[39m(\u001b[39mself\u001b[39m):\n\u001b[1;32m    676\u001b[0m     index \u001b[39m=\u001b[39m \u001b[39mself\u001b[39m\u001b[39m.\u001b[39m_next_index()  \u001b[39m# may raise StopIteration\u001b[39;00m\n\u001b[0;32m--> 677\u001b[0m     data \u001b[39m=\u001b[39m \u001b[39mself\u001b[39;49m\u001b[39m.\u001b[39;49m_dataset_fetcher\u001b[39m.\u001b[39;49mfetch(index)  \u001b[39m# may raise StopIteration\u001b[39;00m\n\u001b[1;32m    678\u001b[0m     \u001b[39mif\u001b[39;00m \u001b[39mself\u001b[39m\u001b[39m.\u001b[39m_pin_memory:\n\u001b[1;32m    679\u001b[0m         data \u001b[39m=\u001b[39m _utils\u001b[39m.\u001b[39mpin_memory\u001b[39m.\u001b[39mpin_memory(data, \u001b[39mself\u001b[39m\u001b[39m.\u001b[39m_pin_memory_device)\n",
      "File \u001b[0;32m~/.local/lib/python3.10/site-packages/torch/utils/data/_utils/fetch.py:51\u001b[0m, in \u001b[0;36m_MapDatasetFetcher.fetch\u001b[0;34m(self, possibly_batched_index)\u001b[0m\n\u001b[1;32m     49\u001b[0m         data \u001b[39m=\u001b[39m \u001b[39mself\u001b[39m\u001b[39m.\u001b[39mdataset\u001b[39m.\u001b[39m__getitems__(possibly_batched_index)\n\u001b[1;32m     50\u001b[0m     \u001b[39melse\u001b[39;00m:\n\u001b[0;32m---> 51\u001b[0m         data \u001b[39m=\u001b[39m [\u001b[39mself\u001b[39m\u001b[39m.\u001b[39mdataset[idx] \u001b[39mfor\u001b[39;00m idx \u001b[39min\u001b[39;00m possibly_batched_index]\n\u001b[1;32m     52\u001b[0m \u001b[39melse\u001b[39;00m:\n\u001b[1;32m     53\u001b[0m     data \u001b[39m=\u001b[39m \u001b[39mself\u001b[39m\u001b[39m.\u001b[39mdataset[possibly_batched_index]\n",
      "File \u001b[0;32m~/.local/lib/python3.10/site-packages/torch/utils/data/_utils/fetch.py:51\u001b[0m, in \u001b[0;36m<listcomp>\u001b[0;34m(.0)\u001b[0m\n\u001b[1;32m     49\u001b[0m         data \u001b[39m=\u001b[39m \u001b[39mself\u001b[39m\u001b[39m.\u001b[39mdataset\u001b[39m.\u001b[39m__getitems__(possibly_batched_index)\n\u001b[1;32m     50\u001b[0m     \u001b[39melse\u001b[39;00m:\n\u001b[0;32m---> 51\u001b[0m         data \u001b[39m=\u001b[39m [\u001b[39mself\u001b[39;49m\u001b[39m.\u001b[39;49mdataset[idx] \u001b[39mfor\u001b[39;00m idx \u001b[39min\u001b[39;00m possibly_batched_index]\n\u001b[1;32m     52\u001b[0m \u001b[39melse\u001b[39;00m:\n\u001b[1;32m     53\u001b[0m     data \u001b[39m=\u001b[39m \u001b[39mself\u001b[39m\u001b[39m.\u001b[39mdataset[possibly_batched_index]\n",
      "File \u001b[0;32m~/.local/lib/python3.10/site-packages/torch/utils/data/dataset.py:298\u001b[0m, in \u001b[0;36mSubset.__getitem__\u001b[0;34m(self, idx)\u001b[0m\n\u001b[1;32m    296\u001b[0m \u001b[39mif\u001b[39;00m \u001b[39misinstance\u001b[39m(idx, \u001b[39mlist\u001b[39m):\n\u001b[1;32m    297\u001b[0m     \u001b[39mreturn\u001b[39;00m \u001b[39mself\u001b[39m\u001b[39m.\u001b[39mdataset[[\u001b[39mself\u001b[39m\u001b[39m.\u001b[39mindices[i] \u001b[39mfor\u001b[39;00m i \u001b[39min\u001b[39;00m idx]]\n\u001b[0;32m--> 298\u001b[0m \u001b[39mreturn\u001b[39;00m \u001b[39mself\u001b[39;49m\u001b[39m.\u001b[39;49mdataset[\u001b[39mself\u001b[39;49m\u001b[39m.\u001b[39;49mindices[idx]]\n",
      "\u001b[1;32m/home/ivan/Desktop/skoltech/mseqdata_project/main.ipynb Cell 7\u001b[0m line \u001b[0;36m1\n\u001b[1;32m     <a href='vscode-notebook-cell:/home/ivan/Desktop/skoltech/mseqdata_project/main.ipynb#X22sZmlsZQ%3D%3D?line=13'>14</a>\u001b[0m \u001b[39mdef\u001b[39;00m \u001b[39m__getitem__\u001b[39m(\u001b[39mself\u001b[39m, index):\n\u001b[0;32m---> <a href='vscode-notebook-cell:/home/ivan/Desktop/skoltech/mseqdata_project/main.ipynb#X22sZmlsZQ%3D%3D?line=15'>16</a>\u001b[0m     x_item \u001b[39m=\u001b[39m \u001b[39mself\u001b[39;49m\u001b[39m.\u001b[39;49mx_data[index]\n\u001b[1;32m     <a href='vscode-notebook-cell:/home/ivan/Desktop/skoltech/mseqdata_project/main.ipynb#X22sZmlsZQ%3D%3D?line=16'>17</a>\u001b[0m     y_item \u001b[39m=\u001b[39m \u001b[39mself\u001b[39m\u001b[39m.\u001b[39my_data[index]\n\u001b[1;32m     <a href='vscode-notebook-cell:/home/ivan/Desktop/skoltech/mseqdata_project/main.ipynb#X22sZmlsZQ%3D%3D?line=18'>19</a>\u001b[0m     x_item \u001b[39m=\u001b[39m np\u001b[39m.\u001b[39mexpand_dims(x_item, axis\u001b[39m=\u001b[39m\u001b[39m0\u001b[39m)\n",
      "File \u001b[0;32mh5py/_objects.pyx:54\u001b[0m, in \u001b[0;36mh5py._objects.with_phil.wrapper\u001b[0;34m()\u001b[0m\n",
      "File \u001b[0;32mh5py/_objects.pyx:55\u001b[0m, in \u001b[0;36mh5py._objects.with_phil.wrapper\u001b[0;34m()\u001b[0m\n",
      "File \u001b[0;32m~/.local/lib/python3.10/site-packages/h5py/_hl/dataset.py:758\u001b[0m, in \u001b[0;36mDataset.__getitem__\u001b[0;34m(self, args, new_dtype)\u001b[0m\n\u001b[1;32m    756\u001b[0m \u001b[39mif\u001b[39;00m \u001b[39mself\u001b[39m\u001b[39m.\u001b[39m_fast_read_ok \u001b[39mand\u001b[39;00m (new_dtype \u001b[39mis\u001b[39;00m \u001b[39mNone\u001b[39;00m):\n\u001b[1;32m    757\u001b[0m     \u001b[39mtry\u001b[39;00m:\n\u001b[0;32m--> 758\u001b[0m         \u001b[39mreturn\u001b[39;00m \u001b[39mself\u001b[39;49m\u001b[39m.\u001b[39;49m_fast_reader\u001b[39m.\u001b[39;49mread(args)\n\u001b[1;32m    759\u001b[0m     \u001b[39mexcept\u001b[39;00m \u001b[39mTypeError\u001b[39;00m:\n\u001b[1;32m    760\u001b[0m         \u001b[39mpass\u001b[39;00m  \u001b[39m# Fall back to Python read pathway below\u001b[39;00m\n",
      "\u001b[0;31mKeyboardInterrupt\u001b[0m: "
     ]
    }
   ],
   "source": [
    "train_loss_epoch = []\n",
    "val_loss_epoch = []\n",
    "epochs = 999999999\n",
    "\n",
    "# with torch.autograd.set_detect_anomaly(True):\n",
    "\n",
    "\n",
    "for epoch in tqdm(range(epochs)):\n",
    "    train_loss = []\n",
    "\n",
    "    #########\n",
    "    # TRAIN #\n",
    "    #########\n",
    "    # TODO: add code for the training step\n",
    "\n",
    "    model.train()\n",
    "\n",
    "    for batch in tqdm(train_loader, leave=False):\n",
    "        optim.zero_grad()\n",
    "        batch[0], batch[1] = batch[0].to(device).float(), batch[1].to(device).float()\n",
    "        pred = model(batch[0])\n",
    "        loss = criterion(pred, batch[1])\n",
    "\n",
    "        loss.backward()\n",
    "        torch.nn.utils.clip_grad_norm_(model.parameters(), 1.0)\n",
    "        optim.step()\n",
    "        train_loss.append(loss.item())\n",
    "\n",
    "    train_loss_epoch.append(np.mean(train_loss))\n",
    "    #######\n",
    "    # VAL #\n",
    "    #######\n",
    "    model.train(False)\n",
    "    val_loss = []\n",
    "\n",
    "    with torch.autograd.no_grad():\n",
    "        for batch in tqdm(val_loader, leave=False):\n",
    "            batch[0], batch[1] = batch[0].to(device).float(), batch[1].to(device).float()\n",
    "\n",
    "            pred = model(batch[0])\n",
    "            loss = criterion(pred, batch[1])\n",
    "            val_loss.append(loss.item())\n",
    "\n",
    "    val_loss_epoch.append(np.mean(val_loss))\n",
    "\n",
    "    if np.argmin(val_loss_epoch) == epoch:\n",
    "        torch.save(model.state_dict(), \"./output/eathtransformer/temp/best_model2_2.pth\")\n",
    "    print(\"train loss:\", np.round(train_loss_epoch[-1], 5), \"\\tval loss:\", np.round(val_loss_epoch[-1], 5))"
   ]
  }
 ],
 "metadata": {
  "kernelspec": {
   "display_name": "Python 3",
   "language": "python",
   "name": "python3"
  },
  "language_info": {
   "codemirror_mode": {
    "name": "ipython",
    "version": 3
   },
   "file_extension": ".py",
   "mimetype": "text/x-python",
   "name": "python",
   "nbconvert_exporter": "python",
   "pygments_lexer": "ipython3",
   "version": "3.10.12"
  }
 },
 "nbformat": 4,
 "nbformat_minor": 2
}
